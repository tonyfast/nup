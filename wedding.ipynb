{
 "cells": [
  {
   "cell_type": "code",
   "execution_count": 2,
   "metadata": {
    "collapsed": true,
    "nbpresent": {
     "id": "a3eace9a-9698-46ac-9a35-f09460bfc296"
    }
   },
   "outputs": [],
   "source": [
    "%reload_ext jademagic\n",
    "import jinja2, ipywidgets, IPython"
   ]
  },
  {
   "cell_type": "code",
   "execution_count": 9,
   "metadata": {
    "collapsed": false,
    "nbpresent": {
     "id": "364b66a9-a152-4d8e-a7ed-2f2075ea86ef"
    }
   },
   "outputs": [
    {
     "data": {
      "application/javascript": [
       "\n",
       "            require(\n",
       "                [\n",
       "                    \"notebook/js/codecell\",\n",
       "                    \"codemirror/mode/jade/jade\"\n",
       "                ],\n",
       "                function(cc){\n",
       "                    cc.CodeCell.options_default.highlight_modes.magic_jade = {\n",
       "                        reg: [\"^%%jade\"]\n",
       "                    }\n",
       "                }\n",
       "            );\n",
       "            "
      ],
      "text/plain": [
       "<IPython.core.display.Javascript object>"
      ]
     },
     "metadata": {},
     "output_type": "display_data"
    }
   ],
   "source": [
    "%%jade head\n",
    "link( rel='stylesheet', href='css/bootstrap.min.css')"
   ]
  },
  {
   "cell_type": "code",
   "execution_count": 115,
   "metadata": {
    "collapsed": false
   },
   "outputs": [
    {
     "data": {
      "application/javascript": [
       "\n",
       "            require(\n",
       "                [\n",
       "                    \"notebook/js/codecell\",\n",
       "                    \"codemirror/mode/jade/jade\"\n",
       "                ],\n",
       "                function(cc){\n",
       "                    cc.CodeCell.options_default.highlight_modes.magic_jade = {\n",
       "                        reg: [\"^%%jade\"]\n",
       "                    }\n",
       "                }\n",
       "            );\n",
       "            "
      ],
      "text/plain": [
       "<IPython.core.display.Javascript object>"
      ]
     },
     "metadata": {},
     "output_type": "display_data"
    }
   ],
   "source": [
    "%%jade body\n",
    "div.container\n",
    "    div.jumbotron\n",
    "        hr\n",
    "        h1: p.display-1.text-center.text-uppercase(style='font-size: 72px;') To Have & Hold Fast\n",
    "        hr\n",
    "        h2: p.display-4.text-center.lead.\n",
    "            March 26, 2016 <br>\n",
    "            5pm - 9pm <br>\n",
    "        h3: p.text-center.lead: i \n",
    "            | Dillwood Farms <br>\n",
    "            | 4000 Brushy Fork Road SW <br>\n",
    "            | Loganville, Georgia 30052 <br>\n",
    "            \n",
    "    div.jumbotron\n",
    "        blockquote.blockquote\n",
    "          p.display-3.m-b-0 We are excited to have you at our wedding celebration.  For those visiting the city we provided a map\n",
    "              | below of our favorite places; it is a good food city.  On Friday night we will meet up at\n",
    "              | Augustine's in East Atlanta Village.  We are looking forward to seeing everyone.  \n",
    "          footer.blockquote-footer Lee & Tony\n",
    "        br\n",
    "    div.jumbotron\n",
    "        div.embed-responsive.embed-responsive-16by9\n",
    "            iframe.embed-responsive-item(src=\"https://www.google.com/maps/d/u/0/embed?mid=zIdFaar2Onaw.koOb3lP6jK-A\", width=\"640\", height=\"480\")"
   ]
  },
  {
   "cell_type": "code",
   "execution_count": 119,
   "metadata": {
    "collapsed": false,
    "nbpresent": {
     "id": "5ab5e269-da95-46d2-9c39-50298c0eb63a"
    }
   },
   "outputs": [
    {
     "data": {
      "application/javascript": [
       "\n",
       "            require(\n",
       "                [\n",
       "                    \"notebook/js/codecell\",\n",
       "                    \"codemirror/mode/jade/jade\"\n",
       "                ],\n",
       "                function(cc){\n",
       "                    cc.CodeCell.options_default.highlight_modes.magic_jade = {\n",
       "                        reg: [\"^%%jade\"]\n",
       "                    }\n",
       "                }\n",
       "            );\n",
       "            "
      ],
      "text/plain": [
       "<IPython.core.display.Javascript object>"
      ]
     },
     "metadata": {},
     "output_type": "display_data"
    }
   ],
   "source": [
    "%%jade page\n",
    "doctype html\n",
    "html.full( lang='en' )\n",
    "    head\n",
    "        meta( charset='utf-8')\n",
    "        <meta http-equiv=\"X-UA-Compatible\" content=\"IE=edge\">\n",
    "        <meta name=\"viewport\" content=\"width=device-width, initial-scale=1\">\n",
    "        <meta name=\"description\" content=\"\">\n",
    "        <meta name=\"author\" content=\"\">\n",
    "        title Rebel and Doc are getting married!\n",
    "        {{head}}\n",
    "        style\n",
    "            |body {\n",
    "            |    background:url('background.png') top left;\n",
    "            |    background-size: 100vw;\n",
    "            |}\n",
    "            |.jumbotron { background-color: rgba(255,255,255,.6); }\n",
    "    }\n",
    "    body\n",
    "        {{body}}\n",
    "        br\n",
    "        br\n",
    "        br"
   ]
  },
  {
   "cell_type": "code",
   "execution_count": 120,
   "metadata": {
    "collapsed": false
   },
   "outputs": [],
   "source": [
    "with open('test_page.html','w') as f:\n",
    "    f.write(jinja2.Template(page).render(**globals()))"
   ]
  }
 ],
 "metadata": {
  "kernelspec": {
   "display_name": "Python 3",
   "language": "python",
   "name": "python3"
  },
  "language_info": {
   "codemirror_mode": {
    "name": "ipython",
    "version": 3
   },
   "file_extension": ".py",
   "mimetype": "text/x-python",
   "name": "python",
   "nbconvert_exporter": "python",
   "pygments_lexer": "ipython3",
   "version": "3.5.1"
  },
  "nbpresent": {
   "slides": {
    "12bf803d-035c-4624-b2b7-50606d68b307": {
     "id": "12bf803d-035c-4624-b2b7-50606d68b307",
     "prev": null,
     "regions": {
      "a38cd93c-55d0-46b8-a930-6cb2bb9018de": {
       "attrs": {
        "height": 1,
        "width": 1,
        "x": 0,
        "y": 0
       },
       "id": "a38cd93c-55d0-46b8-a930-6cb2bb9018de"
      }
     }
    }
   },
   "themes": {}
  }
 },
 "nbformat": 4,
 "nbformat_minor": 0
}
